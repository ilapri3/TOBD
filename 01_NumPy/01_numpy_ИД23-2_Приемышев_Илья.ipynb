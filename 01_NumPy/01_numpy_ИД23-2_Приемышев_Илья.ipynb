{
 "cells": [
  {
   "cell_type": "markdown",
   "metadata": {},
   "source": [
    "# Numpy"
   ]
  },
  {
   "cell_type": "markdown",
   "metadata": {},
   "source": [
    "Материалы:\n",
    "* Макрушин С.В. \"Лекция 1: Библиотека Numpy\"\n",
    "* https://numpy.org/doc/stable/user/index.html\n",
    "* https://numpy.org/doc/stable/reference/index.html"
   ]
  },
  {
   "cell_type": "markdown",
   "metadata": {},
   "source": [
    "## Задачи для совместного разбора"
   ]
  },
  {
   "cell_type": "markdown",
   "metadata": {},
   "source": [
    "1. Сгенерировать двухмерный массив `arr` размерности (4, 7), состоящий из случайных действительных чисел, равномерно распределенных в диапазоне от 0 до 20. Нормализовать значения массива с помощью преобразования вида  $𝑎𝑥+𝑏$  так, что после нормализации максимальный элемент масcива будет равен 1.0, минимальный 0.0"
   ]
  },
  {
   "cell_type": "code",
   "execution_count": 43,
   "metadata": {},
   "outputs": [
    {
     "data": {
      "text/plain": [
       "array([[ 4.01791736,  4.42885849,  5.75216142, 19.43443671,  1.19540394,\n",
       "        17.7789013 , 12.71200519],\n",
       "       [17.85358812,  5.9620096 ,  6.10106736, 18.0252873 , 16.57899379,\n",
       "         0.50054988,  4.93393929],\n",
       "       [19.16415763,  8.21466511,  1.62262697, 13.44262035, 13.59608477,\n",
       "        12.29093436,  1.60820508],\n",
       "       [13.78481175, 16.42458136,  2.08244751,  8.91344675, 15.12691079,\n",
       "        14.4740384 , 17.621176  ]])"
      ]
     },
     "execution_count": 43,
     "metadata": {},
     "output_type": "execute_result"
    }
   ],
   "source": [
    "import numpy as np\n",
    "arr = np.random.uniform(0,20,(4,7))"
   ]
  },
  {
   "cell_type": "code",
   "execution_count": 44,
   "metadata": {},
   "outputs": [
    {
     "data": {
      "text/plain": [
       "array([[0, 2, 7, 3, 5, 6, 7, 1, 9, 9],\n",
       "       [0, 7, 0, 2, 1, 6, 4, 3, 0, 0],\n",
       "       [6, 8, 4, 3, 6, 7, 4, 7, 8, 0],\n",
       "       [4, 1, 6, 2, 9, 1, 6, 1, 4, 9],\n",
       "       [8, 2, 9, 3, 4, 8, 8, 3, 2, 1],\n",
       "       [1, 0, 9, 4, 7, 5, 9, 5, 1, 7],\n",
       "       [2, 2, 5, 0, 8, 6, 5, 9, 6, 6],\n",
       "       [9, 6, 3, 5, 9, 9, 5, 6, 0, 4]])"
      ]
     },
     "execution_count": 44,
     "metadata": {},
     "output_type": "execute_result"
    }
   ],
   "source": [
    "# 2. Создать матрицу 8 на 10 из случайных целых (используя модуль `numpy.random`) \n",
    "# чисел из диапозона от 0 до 10 и найти в ней строку (ее индекс и вывести саму строку), \n",
    "# в которой сумма значений минимальна.\n",
    "matrix = np.random.randint(0,10,(8,10))\n",
    "print(matrix)\n"
   ]
  },
  {
   "cell_type": "markdown",
   "metadata": {},
   "source": [
    "3. Найти евклидово расстояние между двумя одномерными векторами одинаковой размерности."
   ]
  },
  {
   "cell_type": "markdown",
   "metadata": {},
   "source": [
    "4. Решить матричное уравнение `A*X*B=-C` - найти матрицу `X`. Где `A = [[-1, 2, 4], [-3, 1, 2], [-3, 0, 1]]`, `B=[[3, -1], [2, 1]]`, `C=[[7, 21], [11, 8], [8, 4]]`."
   ]
  },
  {
   "cell_type": "markdown",
   "metadata": {},
   "source": [
    "## Лабораторная работа №1"
   ]
  },
  {
   "cell_type": "markdown",
   "metadata": {},
   "source": [
    "Замечание: при решении данных задач не подразумевается использования циклов или генераторов Python, если в задании не сказано обратного. Решение должно опираться на использования функционала библиотеки `numpy`."
   ]
  },
  {
   "cell_type": "code",
   "execution_count": 3,
   "metadata": {},
   "outputs": [
    {
     "data": {
      "text/plain": [
       "array([[127244,     60,     16],\n",
       "       [ 23891,     25,      7],\n",
       "       [ 94746,     10,      6],\n",
       "       [ 67660,      5,      6],\n",
       "       [157911,     60,     14],\n",
       "       [152828,     40,      7]], dtype=int32)"
      ]
     },
     "execution_count": 3,
     "metadata": {},
     "output_type": "execute_result"
    }
   ],
   "source": [
    "# 1. Файл `minutes_n_ingredients.csv` содержит информацию об идентификаторе рецепта, \n",
    "# времени его выполнения в минутах и количестве необходимых ингредиентов. \n",
    "# Считайте данные из этого файла в виде массива `numpy` типа `int32`, \n",
    "# используя `np.loadtxt`. Выведите на экран первые 5 строк массива.\n",
    "import numpy as np\n",
    "\n",
    "data_csv = np.loadtxt('minutes_n_ingredients.csv', dtype = 'int32', delimiter = ',', skiprows = 1)\n",
    "\n",
    "data_csv[:6,:]"
   ]
  },
  {
   "cell_type": "code",
   "execution_count": 4,
   "metadata": {},
   "outputs": [
    {
     "name": "stdout",
     "output_type": "stream",
     "text": [
      "[2.16010017e+04 9.05528000e+00]\n",
      "[0 1]\n",
      "[2147483647         39]\n",
      "[40.  9.]\n"
     ]
    }
   ],
   "source": [
    "# 2. Вычислите среднее значение, минимум, максимум \n",
    "# и медиану по каждому из столбцов, кроме первого.\n",
    "min_and_ingredients_column = data_csv[:,1:]\n",
    "\n",
    "average = np.average(min_and_ingredients_column, axis = 0)\n",
    "minimum = min_and_ingredients_column.min(axis = 0)\n",
    "maximum = min_and_ingredients_column.max(axis = 0)\n",
    "mediana = np.median(min_and_ingredients_column, axis = 0)\n",
    "\n",
    "print(average)\n",
    "print(minimum)\n",
    "print(maximum)\n",
    "print(mediana)"
   ]
  },
  {
   "cell_type": "code",
   "execution_count": 5,
   "metadata": {},
   "outputs": [
    {
     "name": "stdout",
     "output_type": "stream",
     "text": [
      "[[60.]\n",
      " [25.]\n",
      " [10.]\n",
      " ...\n",
      " [65.]\n",
      " [ 5.]\n",
      " [65.]]\n",
      "65.0\n"
     ]
    }
   ],
   "source": [
    "# 3. Ограничьте сверху значения продолжительности \n",
    "# выполнения рецепта значением квантиля $q_{0.75}$. \n",
    "minutes_column = data_csv[:,1:2]\n",
    "block = np.clip(minutes_column,0,np.quantile(minutes_column, 0.75))\n",
    "print(block)\n",
    "\n",
    "check = block.max()\n",
    "print(check)"
   ]
  },
  {
   "cell_type": "code",
   "execution_count": 6,
   "metadata": {},
   "outputs": [
    {
     "name": "stdout",
     "output_type": "stream",
     "text": [
      "479\n",
      "[0] [1]\n"
     ]
    }
   ],
   "source": [
    "# 4. Посчитайте, для скольких рецептов указана продолжительность, равная нулю. \n",
    "# Замените для таких строк значение в данном столбце на 1.\n",
    "before_min = minutes_column.min(axis = 0)\n",
    "\n",
    "print(100000 - np.count_nonzero(minutes_column))\n",
    "\n",
    "for el in np.arange(minutes_column.size):\n",
    "    if np.count_nonzero(minutes_column[el]) == 0:\n",
    "        minutes_column[el] = 1\n",
    "        \n",
    "after_min = minutes_column.min(axis = 0)\n",
    "\n",
    "print(before_min, after_min)"
   ]
  },
  {
   "cell_type": "code",
   "execution_count": 7,
   "metadata": {},
   "outputs": [
    {
     "data": {
      "text/plain": [
       "100000"
      ]
     },
     "execution_count": 7,
     "metadata": {},
     "output_type": "execute_result"
    }
   ],
   "source": [
    "# 5. Посчитайте, сколько уникальных рецептов находится в датасете.\n",
    "np.unique(data_csv, axis = 0).shape[0]"
   ]
  },
  {
   "cell_type": "code",
   "execution_count": 8,
   "metadata": {},
   "outputs": [
    {
     "name": "stdout",
     "output_type": "stream",
     "text": [
      "37\n"
     ]
    }
   ],
   "source": [
    "# 6. Сколько и каких различных значений кол-ва ингредиентов присутвует в рецептах из датасета?\n",
    "n_ingredients_column = data_csv[:,2:]\n",
    "\n",
    "different_ingredients = np.unique(n_ingredients_column, axis = 0).shape[0]\n",
    "\n",
    "print(different_ingredients)"
   ]
  },
  {
   "cell_type": "code",
   "execution_count": 19,
   "metadata": {},
   "outputs": [
    {
     "name": "stdout",
     "output_type": "stream",
     "text": [
      "[[446597     15      5]\n",
      " [204134      5      3]\n",
      " [ 25623      6      4]\n",
      " ...\n",
      " [ 52088     60      5]\n",
      " [128811     15      4]\n",
      " [370915      5      4]]\n"
     ]
    }
   ],
   "source": [
    "# 7. Создайте версию массива, содержащую информацию только о рецептах, \n",
    "# состоящих не более чем из 5 ингредиентов.\n",
    "print(data_csv[data_csv[:, 2] <= 5]) \n"
   ]
  },
  {
   "cell_type": "code",
   "execution_count": 20,
   "metadata": {},
   "outputs": [
    {
     "name": "stdout",
     "output_type": "stream",
     "text": [
      "[0.26666667 0.28       0.6        ... 0.23076923 0.8        0.1       ]\n",
      "24.0\n"
     ]
    }
   ],
   "source": [
    "# 8. Для каждого рецепта посчитайте, сколько в среднем ингредиентов приходится на одну минуту рецепта. \n",
    "# Найдите максимальное значение этой величины для всего датасета\n",
    "new_array = np.array([])\n",
    "min_column = data_csv[:,1:2]\n",
    "ingredients_column = data_csv[:,2:]\n",
    "\n",
    "for el in np.arange(min_column.size):\n",
    "    ing_1_min = ingredients_column[el] / min_column[el]\n",
    "    new_array = np.append(new_array, ing_1_min)\n",
    "\n",
    "print(new_array)\n",
    "print(new_array.max(axis = None))"
   ]
  },
  {
   "cell_type": "code",
   "execution_count": 21,
   "metadata": {},
   "outputs": [
    {
     "name": "stdout",
     "output_type": "stream",
     "text": [
      "6.603960396039604\n"
     ]
    }
   ],
   "source": [
    "# 9. Вычислите среднее количество ингредиентов для топ-100 рецептов с наибольшей продолжительностью\n",
    "sorted_array = data_csv[data_csv[:,1].argsort()[::-1]]\n",
    "average_n_ing = np.average(sorted_array[:101,2:], axis = 0)\n",
    "print(*average_n_ing)"
   ]
  },
  {
   "cell_type": "code",
   "execution_count": 22,
   "metadata": {},
   "outputs": [
    {
     "name": "stdout",
     "output_type": "stream",
     "text": [
      "[85957    45     7]\n",
      "[184473     12      7]\n",
      "[100197     35     10]\n",
      "[214821     20      7]\n",
      "[244949     35     22]\n",
      "[108831    105      9]\n",
      "[82203    65     3]\n",
      "[133290     35      8]\n",
      "[160193     20      5]\n",
      "[133077     18      6]\n"
     ]
    }
   ],
   "source": [
    "# 10. Выберите случайным образом и выведите информацию о 10 различных рецептах\n",
    "random_array = np.random.randint(0, 100001, (1, 10))[0]\n",
    "for el in np.arange(random_array.size):\n",
    "    print(data_csv[random_array[el]])"
   ]
  },
  {
   "cell_type": "code",
   "execution_count": 23,
   "metadata": {},
   "outputs": [
    {
     "name": "stdout",
     "output_type": "stream",
     "text": [
      "58.802\n"
     ]
    }
   ],
   "source": [
    "# 11. Выведите процент рецептов, кол-во ингредиентов в которых меньше среднего.\n",
    "average_n_ing = average[1]\n",
    "count = 0\n",
    "n_ing = data_csv[:,2:]\n",
    "\n",
    "for el in np.arange(n_ing.size):\n",
    "    if n_ing[el] < average_n_ing:\n",
    "        count+=1\n",
    "print(((count/n_ing.size)*100)) "
   ]
  },
  {
   "cell_type": "markdown",
   "metadata": {},
   "source": [
    "12. Назовем \"простым\" такой рецепт, длительность выполнения которого не больше 20 минут и кол-во ингредиентов в котором не больше 5. Создайте версию датасета с дополнительным столбцом, значениями которого являются 1, если рецепт простой, и 0 в противном случае."
   ]
  },
  {
   "cell_type": "code",
   "execution_count": 26,
   "metadata": {},
   "outputs": [
    {
     "name": "stdout",
     "output_type": "stream",
     "text": [
      "[[127244     60     16      0]\n",
      " [ 23891     25      7      0]\n",
      " [ 94746     10      6      0]\n",
      " [ 67660      5      6      0]\n",
      " [157911     60     14      0]]\n"
     ]
    }
   ],
   "source": [
    "simple_recipes = ((data_csv[:, 1] <= 20) & (data_csv[:, 2] <= 5)).astype(int)\n",
    "\n",
    "data_simple_column = np.column_stack((data_csv, simple_recipes))\n",
    "print(data_simple_column[:5])"
   ]
  },
  {
   "cell_type": "markdown",
   "metadata": {},
   "source": [
    "13. Выведите процент \"простых\" рецептов в датасете"
   ]
  },
  {
   "cell_type": "code",
   "execution_count": 27,
   "metadata": {},
   "outputs": [
    {
     "name": "stdout",
     "output_type": "stream",
     "text": [
      "9.552\n"
     ]
    }
   ],
   "source": [
    "print(np.mean(simple_recipes) * 100)"
   ]
  },
  {
   "cell_type": "markdown",
   "metadata": {},
   "source": [
    "14. Разделим рецепты на группы по следующему правилу. Назовем рецепты короткими, если их продолжительность составляет менее 10 минут; стандартными, если их продолжительность составляет более 10, но менее 20 минут; и длинными, если их продолжительность составляет не менее 20 минут. Создайте трехмерный массив, где нулевая ось отвечает за номер группы (короткий, стандартный или длинный рецепт), первая ось - за сам рецепт и вторая ось - за характеристики рецепта. Выберите максимальное количество рецептов из каждой группы таким образом, чтобы было возможно сформировать трехмерный массив. Выведите форму полученного массива."
   ]
  },
  {
   "cell_type": "code",
   "execution_count": null,
   "metadata": {},
   "outputs": [],
   "source": [
    "short_recipes = data_csv[data_csv[:, 1] < 10]\n",
    "standard_recipes = data_csv[(data_csv[:, 1] >= 10) & (data_csv[:, 1] < 20)]\n",
    "long_recipes = data_csv[data_csv[:, 1] >= 20]\n",
    "\n",
    "max_len = min(len(short_recipes), len(standard_recipes), len(long_recipes)) #максимальное кол-во рецептов в каждой группе\n",
    "\n",
    "group_recipes = np.zeros((3, max_len, 3), dtype=int)\n",
    "group_recipes[0, :len(short_rcps[:max_len])] = short_recipes[:max_len]\n",
    "group_recipes[1, :len(standard_rcps[:max_len])] = standard_recipes[:max_len]\n",
    "group_recipes[2, :len(long_rcps[:max_len])] = long_rcp[:max_len]\n",
    "\n",
    "print(group_recipes)\n",
    "print(group_recipes.shape)"
   ]
  }
 ],
 "metadata": {
  "kernelspec": {
   "display_name": "Python 3 (ipykernel)",
   "language": "python",
   "name": "python3"
  },
  "language_info": {
   "codemirror_mode": {
    "name": "ipython",
    "version": 3
   },
   "file_extension": ".py",
   "mimetype": "text/x-python",
   "name": "python",
   "nbconvert_exporter": "python",
   "pygments_lexer": "ipython3",
   "version": "3.11.7"
  }
 },
 "nbformat": 4,
 "nbformat_minor": 4
}
